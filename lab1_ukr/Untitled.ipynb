{
 "cells": [
  {
   "cell_type": "code",
   "execution_count": 1,
   "metadata": {},
   "outputs": [],
   "source": [
    "import conllu\n",
    "from io import open\n",
    "import pickle \n",
    "import numpy as np"
   ]
  },
  {
   "cell_type": "code",
   "execution_count": 2,
   "metadata": {},
   "outputs": [],
   "source": [
    "folder = \"./UD_Ukrainian-IU/\"\n",
    "train = \"uk_iu-ud-train.conllu\"\n",
    "test = \"uk_iu-ud-test.conllu\""
   ]
  },
  {
   "cell_type": "code",
   "execution_count": 3,
   "metadata": {},
   "outputs": [],
   "source": [
    "train_data = conllu.parse_incr(open(folder+train,'r',encoding = \"utf-8\"))"
   ]
  },
  {
   "cell_type": "code",
   "execution_count": 4,
   "metadata": {},
   "outputs": [],
   "source": [
    "c3 = {} # триграммы\n",
    "c2 = {} # биграммы\n",
    "c1 = {} # монограммы\n",
    "cT = {} # пары слово-тег\n",
    "for token in train_data:\n",
    "    sentence = [[\"*\",\"*\"]] + [[\"*\",\"*\"]] + [[token[i][\"lemma\"], token[i][\"upostag\"]]\n",
    "        for i in range(len(token)) ] + [[\"STOP\",\"STOP\"]]\n",
    "\n",
    "    for i in range(0, len(sentence)-2):\n",
    "        c3old = c3.get( (sentence[i][1], sentence[i+1][1], sentence[i+2][1]), 0)\n",
    "        c3.update( { (sentence[i][1], sentence[i+1][1], sentence[i+2][1]): c3old+1 } ) \n",
    "\n",
    "    for i in range(0, len(sentence)-1):\n",
    "        c2old = c2.get( (sentence[i][1], sentence[i+1][1]), 0)\n",
    "        c2.update( { (sentence[i][1], sentence[i+1][1]): c2old+1 } )\n",
    "\n",
    "    for i in range(0, len(sentence)):\n",
    "        c1old = c1.get( (sentence[i][1]), 0)\n",
    "        c1.update( { (sentence[i][1]): c1old+1 } )\n",
    "\n",
    "    for i in range(0, len(sentence)):\n",
    "        cTold = cT.get( (sentence[i][1], sentence[i][0]), 0)\n",
    "        cT.update( { (sentence[i][1], sentence[i][0]): cTold+1 } )"
   ]
  },
  {
   "cell_type": "code",
   "execution_count": 5,
   "metadata": {},
   "outputs": [
    {
     "name": "stdout",
     "output_type": "stream",
     "text": [
      "2391 286 20 15233\n"
     ]
    }
   ],
   "source": [
    "print (len(c3), len(c2), len(c1),len(cT))\n",
    "\n",
    "# Save:\n",
    "with open('cs_ukr.pkl', 'wb') as f:\n",
    "    pickle.dump([cT, c1, c2, c3], f)"
   ]
  },
  {
   "cell_type": "code",
   "execution_count": 6,
   "metadata": {},
   "outputs": [],
   "source": [
    "with open('cs_ukr.pkl', 'rb') as f:\n",
    "    cT, c1, c2, c3 = pickle.load(f)"
   ]
  },
  {
   "cell_type": "code",
   "execution_count": 7,
   "metadata": {},
   "outputs": [],
   "source": [
    "tags = list(c1.keys())\n",
    "tags.remove('*')\n",
    "tags.remove('STOP')\n",
    "k = len(tags) "
   ]
  },
  {
   "cell_type": "code",
   "execution_count": 8,
   "metadata": {},
   "outputs": [
    {
     "name": "stdout",
     "output_type": "stream",
     "text": [
      "['ADP', 'NOUN', 'ADJ', 'PROPN', 'VERB', 'PUNCT', 'CCONJ', 'ADV', 'PRON', 'PART', 'DET', 'SCONJ', 'NUM', 'X', 'AUX', 'INTJ', '_', 'SYM']\n"
     ]
    }
   ],
   "source": [
    "\n",
    "def q(s, u, v):\n",
    "    eps = 1e-7\n",
    "    return c3.get((u, v, s), eps) / c2.get((u, v), eps)\n",
    "\n",
    "\n",
    "def e(x, s):\n",
    "    eps = 1e-7\n",
    "    return cT.get((s, x), eps) / c1.get((s), eps)\n",
    "\n",
    "\n",
    "def K(n): # выдает возможные тэги в зависимости от положения слова в предложении (в начале предложения - *) \n",
    "    if n == -1 or n == 0:\n",
    "        return ['*']\n",
    "    else:\n",
    "        return tags\n",
    "\n",
    "print(K(10))"
   ]
  },
  {
   "cell_type": "markdown",
   "metadata": {},
   "source": [
    "Алгоритм Витерби"
   ]
  },
  {
   "cell_type": "code",
   "execution_count": 9,
   "metadata": {},
   "outputs": [],
   "source": [
    "def viterbi(sent):\n",
    "    Pi = {(0, '*', '*'): 1}\n",
    "    bp = {}\n",
    "    n = len(sent) - 2\n",
    "    y = [\"\"] * (n + 1)\n",
    "\n",
    "    for k in range(1, n + 1):\n",
    "        xk = sent[k]\n",
    "       \n",
    "        for u in K(k-1):\n",
    "            for v in K(k):\n",
    "                w = K(k-2)\n",
    "                v1 = map(lambda wi:\n",
    "                            Pi.get((k-1, wi, u)) *\n",
    "                            q(v, wi, u) *\n",
    "                            e(xk, v), w)\n",
    "                v1 = list(v1)\n",
    "                PiNew = max(v1)\n",
    "                bpNew = w[v1.index(PiNew)]\n",
    "                Pi.update({(k, u, v): PiNew})\n",
    "                bp.update({(k, u, v): bpNew})\n",
    "\n",
    "    v2 = {}\n",
    "    for u in K(n-1):\n",
    "        for v in K(n):\n",
    "            v2.update({(n, u, v): Pi.get((n, u, v)) * q(\"STOP\", u, v)})\n",
    "\n",
    "    v2max = max(list(v2.values()))\n",
    "    for (n, u, v), val in v2.items():\n",
    "        if val == v2max:\n",
    "            (y[n-1], y[n]) = (u,v)\n",
    "\n",
    "    for k in range(n-2, 0, -1):\n",
    "        y[k] = bp.get((k + 2, y[k+1], y[k+2]))\n",
    "\n",
    "    \n",
    "    return y[1:]"
   ]
  },
  {
   "cell_type": "markdown",
   "metadata": {},
   "source": [
    "Прогоняем алгоритм на текстовом корпусе"
   ]
  },
  {
   "cell_type": "code",
   "execution_count": 10,
   "metadata": {},
   "outputs": [],
   "source": [
    "data_test = conllu.parse_incr(open(folder+test,'r',encoding = \"utf-8\"))\n",
    "test_tags = [] # оригинальные теги корпуса\n",
    "predict_tags = [] # предсказанные алгоритмом\n",
    "\n",
    "for token in data_test:\n",
    "    sentence=[\"*\"] + [token[i][\"lemma\"] for i in range(len(token)) ] + [\"STOP\"]\n",
    "    test_tags.append([token[i][\"upostag\"] for i in range(len(token)) ])\n",
    "    predict_tags.append(viterbi(sentence))"
   ]
  },
  {
   "cell_type": "markdown",
   "metadata": {},
   "source": [
    "Считаем ошибку"
   ]
  },
  {
   "cell_type": "code",
   "execution_count": 11,
   "metadata": {},
   "outputs": [
    {
     "name": "stdout",
     "output_type": "stream",
     "text": [
      "Error =  0.11879883257196387\n"
     ]
    }
   ],
   "source": [
    "err = 0.\n",
    "for sent in range(len(test_tags)):\n",
    "    err += np.mean(np.array(test_tags[sent]) != np.array(predict_tags[sent]))\n",
    "print('Error = ', err/len(test_tags))"
   ]
  },
  {
   "cell_type": "code",
   "execution_count": null,
   "metadata": {},
   "outputs": [],
   "source": []
  }
 ],
 "metadata": {
  "kernelspec": {
   "display_name": "Python 3",
   "language": "python",
   "name": "python3"
  },
  "language_info": {
   "codemirror_mode": {
    "name": "ipython",
    "version": 3
   },
   "file_extension": ".py",
   "mimetype": "text/x-python",
   "name": "python",
   "nbconvert_exporter": "python",
   "pygments_lexer": "ipython3",
   "version": "3.7.1"
  }
 },
 "nbformat": 4,
 "nbformat_minor": 2
}
